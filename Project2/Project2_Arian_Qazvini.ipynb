{
 "cells": [
  {
   "attachments": {
    "04f31c53-483e-4bae-a4ef-aeed484c3692.png": {
     "image/png": "[encoded data removed]"
    }
   },
   "cell_type": "markdown",
   "id": "08ef7026-8c46-426c-b687-a95985c117e7",
   "metadata": {
    "tags": []
   },
   "source": [
    "<img style=\"float: right;\" src=\"attachment:04f31c53-483e-4bae-a4ef-aeed484c3692.png\">\n",
    "\n",
    "# Exploratory Analysis of Torob Search Data\n",
    "\n",
    "Greetings and a warm welcome from Torob Data Team!\n",
    "\n",
    "We are very excited to share with you the Torob's search data for the task of exploratory data analysis as part of OpenAI Summer School 2022. The data consists of users' search logs as well as their clicks on search results in Torob. It also includes information for a sample of the products and product categories. In this notebook, you will analyze this data and answer some questions with the goal of practicing your data analysis skills (especially the ability to work with Pandas) and also extract insightful information from our users' searches and their interaction with the search results.\n",
    "\n",
    "Note that our original daily search data is very large (you may need gigabytes of RAM and disk space to handle the data of just one day!). So, for practical purposes and due to the size constraints, the original data has been sampled and reduced, and what you'll work with is just a small fraction of the data of one week. \n",
    "\n",
    "The sections marked with a triangular flag (🚩) are those which you need to read and answer. Allright, without further ado let's get started!\n",
    "\n",
    "(NOTE: Here is the link to the guideline document of the project: https://docs.google.com/document/d/1r46gWcSXwvxxpS92cOqqA7pLuX1Vq673rokgwtnafb8/edit?usp=sharing)"
   ]
  },
  {
   "cell_type": "markdown",
   "id": "fade52bf-d9c1-478d-b67c-cde75938b09a",
   "metadata": {},
   "source": [
    "---"
   ]
  },
  {
   "cell_type": "markdown",
   "id": "0585c2a0-1e1e-4d39-8d51-e15ba19c991a",
   "metadata": {},
   "source": [
    "## Import modules/libraries\n",
    "\n",
    "So, as usual, we first need to import the neccessary libraries and modules which we would use:"
   ]
  },
  {
   "cell_type": "code",
   "execution_count": 1,
   "id": "58237104-a28e-4ca4-883b-2f534ee8cc64",
   "metadata": {},
   "outputs": [],
   "source": [
    "import pandas as pd\n",
    "import matplotlib.pyplot as plt\n",
    "import numpy as np\n",
    "%config Completer.use_jedi = False"
   ]
  },
  {
   "cell_type": "markdown",
   "id": "f093fda3-f41e-4a78-b18d-5d88a3680f2d",
   "metadata": {},
   "source": [
    "---"
   ]
  },
  {
   "cell_type": "markdown",
   "id": "d5e3e7b2-10e0-4f11-8671-70b47e299af0",
   "metadata": {
    "tags": []
   },
   "source": [
    "## Load and Inspect Data\n",
    "\n",
    "In this section we load the data from given files, and then we take a quick look at their structure and make sure they have been loaded properly."
   ]
  },
  {
   "cell_type": "markdown",
   "id": "74a0b0e7-6c09-4f39-8ee4-1149d9ca48d4",
   "metadata": {},
   "source": [
    "### 🚩Load data from disk\n",
    "\n",
    "First, we need to load the data from disk as Pandas dataframes. There are four different dataframes which need to be loaded:\n",
    "- Search logs, stored in `search_logs.pkl`.\n",
    "- Search click logs, stored in `search_click_logs.pkl`.\n",
    "- Products info, stored in `products.pkl`.\n",
    "- Product categories info, stored in `categories.pkl`.\n",
    "\n",
    "Let's load them all and store each of them in a separate variable:"
   ]
  },
  {
   "cell_type": "markdown",
   "id": "de4f1863-860f-4e85-a59b-1d76423d0761",
   "metadata": {},
   "source": [
    "**Write the answer below:** \\\n"
   ]
  },
  {
   "cell_type": "code",
   "execution_count": 2,
   "id": "cedef7aa-0c8f-4761-a1c9-999adb77bdf8",
   "metadata": {},
   "outputs": [],
   "source": [
    "search_logs_df = pd.read_pickle(\"data/search_logs.pkl\")\n",
    "search_click_logs_df= pd.read_pickle(\"data/search_click_logs.pkl\")\n",
    "products_df= pd.read_pickle(\"data/products.pkl\")\n",
    "categories_df= pd.read_pickle(\"data/categories.pkl\")"
   ]
  },
  {
   "cell_type": "markdown",
   "id": "09fc00d6-0d63-4087-a7a5-bbcb9a22f022",
   "metadata": {
    "tags": []
   },
   "source": [
    "### 🚩A quick peek at the data\n",
    "\n",
    "To quickly get a feel of the strucure of the data and see if it has been loaded correctly, we can check the first few rows of the dataframes. Let's take a look at the first five rows of each dataframe we loaded in the previous step:"
   ]
  },
  {
   "cell_type": "markdown",
   "id": "0c66d0e0-3e59-4c9b-98c0-c271fbfe7b71",
   "metadata": {},
   "source": [
    "**Write the answer below:** \\\n"
   ]
  },
  {
   "cell_type": "code",
   "execution_count": 3,
   "id": "4ade041d-ed7a-4445-ad58-0d9243be2cfc",
   "metadata": {},
   "outputs": [
    {
     "data": {
      "text/plain": "      id          raw_query  \\\n0  qahft  سرویس ملامین نشکن   \n1  rxcka          جارو برقی   \n2  fnafq          دسته ps4    \n3  ofpva       کلو تریمازول   \n4  usiey      قرص فولی کوژن   \n\n                                              result  \\\n0  [7840591, 1784875, 6716428, 6135112, 7103618, ...   \n1  [451703, 8801989, 8977506, 4665205, 5219768, 5...   \n2  [1457782, 5150503, 5921870, 909372, 9738201, 1...   \n3  [404198, 812389, 339213, 929557, 3632184, 7764...   \n4  [8103652, 7283604, 4030781, 4756913, 3259566, ...   \n\n                          datetime  category_id user_id  \n0 2022-05-16 13:17:22.701000+00:00          NaN   MPOHZ  \n1 2022-05-18 11:24:02.385000+00:00       4792.0   NZPJN  \n2 2022-05-14 19:35:31.691000+00:00          NaN   NRMQA  \n3 2022-05-14 18:20:55.328000+00:00          NaN   WRYZT  \n4 2022-05-13 19:50:03.519000+00:00       3196.0   TJLWU  ",
      "text/html": "<div>\n<style scoped>\n    .dataframe tbody tr th:only-of-type {\n        vertical-align: middle;\n    }\n\n    .dataframe tbody tr th {\n        vertical-align: top;\n    }\n\n    .dataframe thead th {\n        text-align: right;\n    }\n</style>\n<table border=\"1\" class=\"dataframe\">\n  <thead>\n    <tr style=\"text-align: right;\">\n      <th></th>\n      <th>id</th>\n      <th>raw_query</th>\n      <th>result</th>\n      <th>datetime</th>\n      <th>category_id</th>\n      <th>user_id</th>\n    </tr>\n  </thead>\n  <tbody>\n    <tr>\n      <th>0</th>\n      <td>qahft</td>\n      <td>سرویس ملامین نشکن</td>\n      <td>[7840591, 1784875, 6716428, 6135112, 7103618, ...</td>\n      <td>2022-05-16 13:17:22.701000+00:00</td>\n      <td>NaN</td>\n      <td>MPOHZ</td>\n    </tr>\n    <tr>\n      <th>1</th>\n      <td>rxcka</td>\n      <td>جارو برقی</td>\n      <td>[451703, 8801989, 8977506, 4665205, 5219768, 5...</td>\n      <td>2022-05-18 11:24:02.385000+00:00</td>\n      <td>4792.0</td>\n      <td>NZPJN</td>\n    </tr>\n    <tr>\n      <th>2</th>\n      <td>fnafq</td>\n      <td>دسته ps4</td>\n      <td>[1457782, 5150503, 5921870, 909372, 9738201, 1...</td>\n      <td>2022-05-14 19:35:31.691000+00:00</td>\n      <td>NaN</td>\n      <td>NRMQA</td>\n    </tr>\n    <tr>\n      <th>3</th>\n      <td>ofpva</td>\n      <td>کلو تریمازول</td>\n      <td>[404198, 812389, 339213, 929557, 3632184, 7764...</td>\n      <td>2022-05-14 18:20:55.328000+00:00</td>\n      <td>NaN</td>\n      <td>WRYZT</td>\n    </tr>\n    <tr>\n      <th>4</th>\n      <td>usiey</td>\n      <td>قرص فولی کوژن</td>\n      <td>[8103652, 7283604, 4030781, 4756913, 3259566, ...</td>\n      <td>2022-05-13 19:50:03.519000+00:00</td>\n      <td>3196.0</td>\n      <td>TJLWU</td>\n    </tr>\n  </tbody>\n</table>\n</div>"
     },
     "execution_count": 3,
     "metadata": {},
     "output_type": "execute_result"
    }
   ],
   "source": [
    "search_logs_df.head()"
   ]
  },
  {
   "cell_type": "code",
   "execution_count": 4,
   "id": "1e341885-10a1-4c62-9e02-6a5103c514ec",
   "metadata": {},
   "outputs": [
    {
     "data": {
      "text/plain": "      id                         datetime search_id  rank\n0  jstyz 2022-05-13 19:30:14.030000+00:00     iitnm     1\n1  ewusk 2022-05-13 19:30:24.290000+00:00     scjlb     2\n2  osnio 2022-05-13 19:30:24.394000+00:00     ohuqq     6\n3  expgi 2022-05-13 19:30:30.500000+00:00     pzrcn     3\n4  srgdy 2022-05-13 19:30:32.884000+00:00     mhlmr     5",
      "text/html": "<div>\n<style scoped>\n    .dataframe tbody tr th:only-of-type {\n        vertical-align: middle;\n    }\n\n    .dataframe tbody tr th {\n        vertical-align: top;\n    }\n\n    .dataframe thead th {\n        text-align: right;\n    }\n</style>\n<table border=\"1\" class=\"dataframe\">\n  <thead>\n    <tr style=\"text-align: right;\">\n      <th></th>\n      <th>id</th>\n      <th>datetime</th>\n      <th>search_id</th>\n      <th>rank</th>\n    </tr>\n  </thead>\n  <tbody>\n    <tr>\n      <th>0</th>\n      <td>jstyz</td>\n      <td>2022-05-13 19:30:14.030000+00:00</td>\n      <td>iitnm</td>\n      <td>1</td>\n    </tr>\n    <tr>\n      <th>1</th>\n      <td>ewusk</td>\n      <td>2022-05-13 19:30:24.290000+00:00</td>\n      <td>scjlb</td>\n      <td>2</td>\n    </tr>\n    <tr>\n      <th>2</th>\n      <td>osnio</td>\n      <td>2022-05-13 19:30:24.394000+00:00</td>\n      <td>ohuqq</td>\n      <td>6</td>\n    </tr>\n    <tr>\n      <th>3</th>\n      <td>expgi</td>\n      <td>2022-05-13 19:30:30.500000+00:00</td>\n      <td>pzrcn</td>\n      <td>3</td>\n    </tr>\n    <tr>\n      <th>4</th>\n      <td>srgdy</td>\n      <td>2022-05-13 19:30:32.884000+00:00</td>\n      <td>mhlmr</td>\n      <td>5</td>\n    </tr>\n  </tbody>\n</table>\n</div>"
     },
     "execution_count": 4,
     "metadata": {},
     "output_type": "execute_result"
    }
   ],
   "source": [
    "search_click_logs_df.head()"
   ]
  },
  {
   "cell_type": "code",
   "execution_count": 5,
   "id": "5517ab9a-daca-432f-9dce-ad53aa60d745",
   "metadata": {},
   "outputs": [
    {
     "data": {
      "text/plain": "        id                                        title  category_id\n0   758287                  میکروسکوپ سلسترون مدل 44121          262\n1  7164195      دوربین عکاسی نیکون مدل Nikon D5600 body         1273\n2  3242621  دوچرخه شهری قناری مدل Space Shuttle سایز 16         3882\n3  4277974   دوچرخه سایز 16 مدل  2020 Flying Bear قناری         3882\n4  8671305                    دوچرخه 12 قناری مدل JENNY         4320",
      "text/html": "<div>\n<style scoped>\n    .dataframe tbody tr th:only-of-type {\n        vertical-align: middle;\n    }\n\n    .dataframe tbody tr th {\n        vertical-align: top;\n    }\n\n    .dataframe thead th {\n        text-align: right;\n    }\n</style>\n<table border=\"1\" class=\"dataframe\">\n  <thead>\n    <tr style=\"text-align: right;\">\n      <th></th>\n      <th>id</th>\n      <th>title</th>\n      <th>category_id</th>\n    </tr>\n  </thead>\n  <tbody>\n    <tr>\n      <th>0</th>\n      <td>758287</td>\n      <td>میکروسکوپ سلسترون مدل 44121</td>\n      <td>262</td>\n    </tr>\n    <tr>\n      <th>1</th>\n      <td>7164195</td>\n      <td>دوربین عکاسی نیکون مدل Nikon D5600 body</td>\n      <td>1273</td>\n    </tr>\n    <tr>\n      <th>2</th>\n      <td>3242621</td>\n      <td>دوچرخه شهری قناری مدل Space Shuttle سایز 16</td>\n      <td>3882</td>\n    </tr>\n    <tr>\n      <th>3</th>\n      <td>4277974</td>\n      <td>دوچرخه سایز 16 مدل  2020 Flying Bear قناری</td>\n      <td>3882</td>\n    </tr>\n    <tr>\n      <th>4</th>\n      <td>8671305</td>\n      <td>دوچرخه 12 قناری مدل JENNY</td>\n      <td>4320</td>\n    </tr>\n  </tbody>\n</table>\n</div>"
     },
     "execution_count": 5,
     "metadata": {},
     "output_type": "execute_result"
    }
   ],
   "source": [
    "products_df.head()"
   ]
  },
  {
   "cell_type": "code",
   "execution_count": 6,
   "id": "a01d412a-abc2-4bf4-bfe6-d23caa4cfbce",
   "metadata": {},
   "outputs": [
    {
     "data": {
      "text/plain": "                       title    id  parent_category_id\n0                گوشی موبایل  2580               175.0\n1                       تبلت  9458               175.0\n2      هدفون، هدست و هندزفری  1092               175.0\n3  لوازم جانبی موبایل و تبلت  8192               175.0\n4        قطعات موبایل و تبلت  3596               175.0",
      "text/html": "<div>\n<style scoped>\n    .dataframe tbody tr th:only-of-type {\n        vertical-align: middle;\n    }\n\n    .dataframe tbody tr th {\n        vertical-align: top;\n    }\n\n    .dataframe thead th {\n        text-align: right;\n    }\n</style>\n<table border=\"1\" class=\"dataframe\">\n  <thead>\n    <tr style=\"text-align: right;\">\n      <th></th>\n      <th>title</th>\n      <th>id</th>\n      <th>parent_category_id</th>\n    </tr>\n  </thead>\n  <tbody>\n    <tr>\n      <th>0</th>\n      <td>گوشی موبایل</td>\n      <td>2580</td>\n      <td>175.0</td>\n    </tr>\n    <tr>\n      <th>1</th>\n      <td>تبلت</td>\n      <td>9458</td>\n      <td>175.0</td>\n    </tr>\n    <tr>\n      <th>2</th>\n      <td>هدفون، هدست و هندزفری</td>\n      <td>1092</td>\n      <td>175.0</td>\n    </tr>\n    <tr>\n      <th>3</th>\n      <td>لوازم جانبی موبایل و تبلت</td>\n      <td>8192</td>\n      <td>175.0</td>\n    </tr>\n    <tr>\n      <th>4</th>\n      <td>قطعات موبایل و تبلت</td>\n      <td>3596</td>\n      <td>175.0</td>\n    </tr>\n  </tbody>\n</table>\n</div>"
     },
     "execution_count": 6,
     "metadata": {},
     "output_type": "execute_result"
    }
   ],
   "source": [
    "categories_df.head()"
   ]
  },
  {
   "cell_type": "markdown",
   "id": "5a441b8a-7098-4c96-82e9-568a8096d014",
   "metadata": {},
   "source": [
    "---"
   ]
  },
  {
   "cell_type": "markdown",
   "id": "9b074fc3-710c-4cd8-afcd-ac8ee0b9e9ff",
   "metadata": {},
   "source": [
    "## Data Validation\n",
    "\n",
    "Before starting our analysis, it's a good practice to validate the consistency of the data values and constraints with our expectations. There are various validity checks that could be done, and below we give you two examples."
   ]
  },
  {
   "cell_type": "markdown",
   "id": "b10cfa25-2316-442c-8a05-29ab6f2914fc",
   "metadata": {
    "tags": []
   },
   "source": [
    "### 🚩Validate uniquness of ID columns\n",
    "\n",
    "For example, we can confirm whether all the unique ID columns (i.e. `id` column) have no duplicate values for all the dataframes we have. Let's check this for all the four dataframes:"
   ]
  },
  {
   "cell_type": "markdown",
   "id": "ad9f7982-de77-4a36-bae2-81223c2017c3",
   "metadata": {},
   "source": [
    "**Write the answer below:**"
   ]
  },
  {
   "cell_type": "code",
   "execution_count": 7,
   "id": "2a4ff33a-8a91-48d2-b47a-2badb8ccef2d",
   "metadata": {},
   "outputs": [
    {
     "name": "stdout",
     "output_type": "stream",
     "text": [
      "0\n",
      "0\n",
      "0\n",
      "0\n"
     ]
    }
   ],
   "source": [
    "print(search_click_logs_df[\"id\"].duplicated().sum())\n",
    "print(search_logs_df[\"id\"].duplicated().sum())\n",
    "print(products_df[\"id\"].duplicated().sum())\n",
    "print(categories_df[\"id\"].duplicated().sum())"
   ]
  },
  {
   "cell_type": "markdown",
   "id": "29761e60-4006-4019-a269-3aa5fb8a8097",
   "metadata": {},
   "source": [
    "### 🚩Validate all the search clicks have a valid rank value\n",
    "\n",
    "Here, we would like to check two things about the rank of search click records: 1) they have no NaN value, 2) they are all between 0 and 9 (because searches have at most 10 results). Let's do these checks:"
   ]
  },
  {
   "cell_type": "markdown",
   "id": "a51d1afd-e4f3-4056-8d04-c387444962bd",
   "metadata": {},
   "source": [
    "**Write the answer below:**"
   ]
  },
  {
   "cell_type": "code",
   "execution_count": 8,
   "id": "3dd1c351-4298-4455-ac64-5f64b96848f5",
   "metadata": {},
   "outputs": [
    {
     "name": "stdout",
     "output_type": "stream",
     "text": [
      "0\n",
      "---------------------\n",
      "Empty DataFrame\n",
      "Columns: [id, datetime, search_id, rank]\n",
      "Index: []\n"
     ]
    }
   ],
   "source": [
    "print(search_click_logs_df[\"rank\"].isna().sum())\n",
    "print(\"---------------------\")\n",
    "print(search_click_logs_df[ (search_click_logs_df[\"rank\"]<0) |  (search_click_logs_df[\"rank\"]>9)])"
   ]
  },
  {
   "cell_type": "markdown",
   "id": "f0564ad2-ba53-4b7c-87b4-1a17ed4a1e6d",
   "metadata": {},
   "source": [
    "---"
   ]
  },
  {
   "cell_type": "markdown",
   "id": "f649f30d-f971-4a45-90cf-6103149b31b9",
   "metadata": {
    "tags": []
   },
   "source": [
    "## Exploratory Data Analysis (EDA)\n",
    "\n",
    "Now that we have loaded the data, we are ready to start the processing and analysis of our data."
   ]
  },
  {
   "cell_type": "markdown",
   "id": "a5c5b0fb-5c65-42da-868b-7783933cc5ba",
   "metadata": {
    "tags": []
   },
   "source": [
    "### 🚩Number of searches and search clicks\n",
    "\n",
    "The most basic stat we can get from our data is the number of searches and search clicks we have. Let's find and print them:"
   ]
  },
  {
   "cell_type": "markdown",
   "id": "36a3a791-cd0a-4fb9-ad55-ba61356c5b09",
   "metadata": {},
   "source": [
    "**Write the answer below:**"
   ]
  },
  {
   "cell_type": "code",
   "execution_count": 9,
   "id": "c9e03c0b-4e03-4b4a-bca2-9446434349d7",
   "metadata": {},
   "outputs": [
    {
     "name": "stdout",
     "output_type": "stream",
     "text": [
      "number of searches : 539289\n",
      "number of search clicks : 295692\n"
     ]
    }
   ],
   "source": [
    "print(\"number of searches :\",search_logs_df.shape[0])\n",
    "print(\"number of search clicks :\",search_click_logs_df.shape[0])"
   ]
  },
  {
   "cell_type": "markdown",
   "id": "b8e0fe09-7a3f-4926-bf3c-4433cdc08002",
   "metadata": {},
   "source": [
    "### 🚩Number of unique search queries\n",
    "\n",
    "We can also calculate the number of unique search queries."
   ]
  },
  {
   "cell_type": "markdown",
   "id": "98e017c5-c22e-4837-a893-20066542b7ba",
   "metadata": {},
   "source": [
    "**Write the answer below:**"
   ]
  },
  {
   "cell_type": "code",
   "execution_count": 10,
   "id": "39d84e83-8a1a-4a33-9c96-bf4a8fb8ea0d",
   "metadata": {},
   "outputs": [
    {
     "data": {
      "text/plain": "260193"
     },
     "execution_count": 10,
     "metadata": {},
     "output_type": "execute_result"
    }
   ],
   "source": [
    "search_logs_df[\"raw_query\"].unique().shape[0]\n"
   ]
  },
  {
   "cell_type": "markdown",
   "id": "6da1fe55-d215-49e6-bea4-4678cbd69449",
   "metadata": {},
   "source": [
    "### 🚩Number of unique users\n",
    "\n",
    "Another basic stat is the number of unique users who searched on Torob. We can use `user_id` column to calculate this:"
   ]
  },
  {
   "cell_type": "markdown",
   "id": "ec8679da-d9b1-46aa-ba2d-8791dfb4251c",
   "metadata": {},
   "source": [
    "**Write the answer below:**"
   ]
  },
  {
   "cell_type": "code",
   "execution_count": 11,
   "id": "abac1487-d97e-406a-84ce-30d92eee481e",
   "metadata": {},
   "outputs": [
    {
     "data": {
      "text/plain": "311083"
     },
     "execution_count": 11,
     "metadata": {},
     "output_type": "execute_result"
    }
   ],
   "source": [
    "search_logs_df[\"user_id\"].unique().shape[0]"
   ]
  },
  {
   "cell_type": "markdown",
   "id": "4fcac2f9-b364-4216-9c78-7952048472f3",
   "metadata": {
    "tags": []
   },
   "source": [
    "### 🚩Most frequent search queries\n",
    "\n",
    "We would like to know which search queries are the most popular (i.e. most frequent). We can use the \"search logs\" data to find the answer. Find the top 20 most searched queries along with their number of searches:"
   ]
  },
  {
   "cell_type": "markdown",
   "id": "b8ec3e4f-3921-4875-87c3-9cf270dc6978",
   "metadata": {},
   "source": [
    "**Write the answer below:**"
   ]
  },
  {
   "cell_type": "code",
   "execution_count": 12,
   "id": "3b677ef6-9531-4fcd-b4d4-093a4db1d0b2",
   "metadata": {},
   "outputs": [
    {
     "data": {
      "text/plain": "iphone           7626\nدلار امریکا      3240\nکفش              3211\nروغن             2956\nلپ تاپ ایسوس     1940\nدوربین عکاسی     1929\nشیر              1781\nدوچرخه 26        1689\nxbox series s    1617\nلباس عروس        1577\nگوشی             1454\nروغن موتور       1333\nماکروویو         1196\nxiaomi 12 pro    1083\nکاغذ a4          1012\nتلویزیون          843\nگوشی سامسونگ      812\nدوچرخه            807\nیخچال             789\nروغن خوراکی       787\nName: raw_query, dtype: int64"
     },
     "execution_count": 12,
     "metadata": {},
     "output_type": "execute_result"
    }
   ],
   "source": [
    "search_logs_df[\"raw_query\"].value_counts()[:20]"
   ]
  },
  {
   "cell_type": "markdown",
   "id": "a826f78a-01a8-4d5a-a1da-524f814e6794",
   "metadata": {},
   "source": [
    "### 🚩Distribution of length of search queries\n",
    "\n",
    "We expect that the majority of search queries consist of at most three words. Let's confirm our expectation by calculating the number of words in each search query and then aggregate these values to see how the length of queries is distributed (i.e. find the distribution of number of words in search queries):"
   ]
  },
  {
   "cell_type": "markdown",
   "id": "0151cf2b-17aa-477f-8d90-c9940fa9953e",
   "metadata": {},
   "source": []
  },
  {
   "cell_type": "code",
   "execution_count": 13,
   "id": "4d86acba-45dd-45c2-8e6a-b8275cb51803",
   "metadata": {},
   "outputs": [
    {
     "data": {
      "text/plain": "<Figure size 432x288 with 1 Axes>",
      "image/png": "[encoded data removed]"
     },
     "metadata": {
      "needs_background": "light"
     },
     "output_type": "display_data"
    },
    {
     "data": {
      "text/plain": "<Figure size 432x288 with 1 Axes>",
      "image/png": "[encoded data removed]"
     },
     "metadata": {
      "needs_background": "light"
     },
     "output_type": "display_data"
    }
   ],
   "source": [
    "temp_list= [len(x.split()) for x in search_logs_df[\"raw_query\"]]\n",
    "plt.plot(temp_list[:70])\n",
    "plt.show()\n",
    "plt.hist(temp_list,edgecolor=\"black\")\n",
    "plt.show()"
   ]
  },
  {
   "cell_type": "markdown",
   "id": "12d23d55-81b4-4f47-a8be-25a3e5bec123",
   "metadata": {
    "tags": []
   },
   "source": [
    "### 🚩Most common words in search queries\n",
    "\n",
    "Which words were most commonly used in the search queries? Find the top 20 most common words along with their number of occurrences in search queries:"
   ]
  },
  {
   "cell_type": "markdown",
   "id": "f1184224-d79e-417e-86b4-827bf3d2e8b1",
   "metadata": {},
   "source": [
    "**Write the answer below:**  \n",
    "(Hint: split + explode!!!)"
   ]
  },
  {
   "cell_type": "code",
   "execution_count": 14,
   "id": "a154d403-9fac-4dbb-a738-1040998ee942",
   "metadata": {},
   "outputs": [
    {
     "name": "stdout",
     "output_type": "stream",
     "text": [
      "1- گوشی\n",
      "2- روغن\n",
      "3- iphone\n",
      "4- موتور\n",
      "5- کفش\n",
      "6- pro\n",
      "7- دوچرخه\n",
      "8- سامسونگ\n",
      "9- لباس\n",
      "10- ماشین\n",
      "11- ساعت\n",
      "12- پراید\n",
      "13- کولر\n",
      "14- ای\n",
      "15- برقی\n",
      "16- تاپ\n",
      "17- مردانه\n",
      "18- یخچال\n",
      "19- دوربین\n",
      "20- زنانه\n"
     ]
    }
   ],
   "source": [
    "from itertools import chain\n",
    "\n",
    "words= [x.split() for x in search_logs_df[\"raw_query\"]]\n",
    "flatten = list(chain(*words))\n",
    "unique,counts= np.unique(flatten,return_counts=True)\n",
    "for i in range(0,20):\n",
    "    print(str(i+1)+\"-\",unique[np.flip(np.argsort(counts))[i]])"
   ]
  },
  {
   "cell_type": "markdown",
   "id": "904a3414-33b1-495e-a917-a8dced4ae7ed",
   "metadata": {
    "tags": []
   },
   "source": [
    "### 🚩Localize date and time values\n",
    "\n",
    "Currently, the date & time values in the search and search-click dataframes are stored in UTC timezone. This is a best-pratice to store timestamp values in UTC when the data is stored in databases; however, for our next time-based analyses to be more understandable, we need to convert them all to Tehran timezone.\n",
    "\n",
    "Convert and replace the `datetime` columns in both search and search-click dataframes:"
   ]
  },
  {
   "cell_type": "markdown",
   "id": "78602831-ce6e-4246-af72-35f1857fe338",
   "metadata": {},
   "source": []
  },
  {
   "cell_type": "code",
   "execution_count": 15,
   "id": "30c0903a-8ff0-437c-add6-2c0f664679f2",
   "metadata": {},
   "outputs": [],
   "source": [
    "search_logs_df[\"datetime\"]=search_logs_df[\"datetime\"].dt.tz_convert(\"Asia/Tehran\")\n",
    "search_click_logs_df[\"datetime\"]=search_click_logs_df[\"datetime\"].dt.tz_convert(\"Asia/Tehran\")"
   ]
  },
  {
   "cell_type": "markdown",
   "id": "42c81965-7584-41d0-9b52-640836bacf82",
   "metadata": {
    "tags": []
   },
   "source": [
    "### 🚩Number of searches and search-clicks per weekday\n",
    "\n",
    "Now that we have converted the datetime to Tehran timezone, we are interested to know how many searches and search-clicks exist per weekday (i.e. Saturday, Sunday, Monday, etc.). We expect that both of these numbers to be a bit lower on weekends (i.e. Thursday and Friday).\n",
    "\n",
    "Calculate the number of searches and search-clicks per weekday and plot both alongside each other in a single bar plot:"
   ]
  },
  {
   "cell_type": "markdown",
   "id": "88f6b2f7-a997-4088-ae50-e9163b9d5213",
   "metadata": {},
   "source": []
  },
  {
   "cell_type": "code",
   "execution_count": 16,
   "id": "a6bbfecd-4c81-443d-bce7-a0d90e06d363",
   "metadata": {},
   "outputs": [
    {
     "data": {
      "text/plain": "<Figure size 1080x576 with 1 Axes>",
      "image/png": "[encoded data removed]"
     },
     "metadata": {
      "needs_background": "light"
     },
     "output_type": "display_data"
    }
   ],
   "source": [
    "def getWeekDayStr(x):\n",
    "    if(x==0):\n",
    "        return \"Monday\"\n",
    "    elif(x==1):\n",
    "        return \"Tuesday\"\n",
    "    elif(x==2):\n",
    "        return \"Wednesday\"\n",
    "    elif(x==3):\n",
    "        return \"Thursday\"\n",
    "    elif(x==4):\n",
    "        return \"Friday\"\n",
    "    elif(x==5):\n",
    "        return \"Saturday\"\n",
    "    elif(x==6):\n",
    "        return \"Sunday\"\n",
    "search_logs_df[\"weekday\"]=search_logs_df[\"datetime\"].dt.weekday.apply(lambda x:getWeekDayStr(x))\n",
    "search_click_logs_df[\"weekday\"]=search_click_logs_df[\"datetime\"].dt.weekday.apply(lambda x:getWeekDayStr(x))\n",
    "#\n",
    "# print(search_logs_df[\"weekday\"].value_counts())\n",
    "# print(\"---------------------------------\")\n",
    "# print(search_click_logs_df[\"weekday\"].value_counts())\n",
    "\n",
    "fig, ax = plt.subplots(figsize =(15, 8))\n",
    "plt.bar(search_logs_df[\"weekday\"].value_counts().index,search_logs_df[\"weekday\"].value_counts().values,color=\"blue\",width=0.5,label=\"search logs\",alpha=0.5)\n",
    "plt.bar(search_click_logs_df[\"weekday\"].value_counts().index,search_click_logs_df[\"weekday\"].value_counts().values,color=\"grey\",width=0.2,label=\"search click logs\",alpha=0.8,edgecolor=\"black\")\n",
    "plt.legend()\n",
    "plt.show()"
   ]
  },
  {
   "cell_type": "markdown",
   "id": "c16dce97-ac29-44a7-8bd3-bed31ca7e5b9",
   "metadata": {
    "tags": []
   },
   "source": [
    "### 🚩Number of searches and search-clicks per hour of day\n",
    "\n",
    "Next, we would like to know which hour during the day has the most search traffic.\n",
    "\n",
    "Calculate the number of searches and search-clicks per hour and plot both alongside each other in a single bar plot (note that we are just interested in the hour regardless of the specific day; so the result should be aggregated based on hour **over all the days**):"
   ]
  },
  {
   "cell_type": "markdown",
   "id": "550e810e-9e8a-4377-a347-a2d53779c1e8",
   "metadata": {},
   "source": []
  },
  {
   "cell_type": "code",
   "execution_count": 17,
   "id": "cbe17079-54c4-47c8-b46d-30a9f3227d99",
   "metadata": {},
   "outputs": [
    {
     "data": {
      "text/plain": "<Figure size 1224x576 with 1 Axes>",
      "image/png": "[encoded data removed]"
     },
     "metadata": {
      "needs_background": "light"
     },
     "output_type": "display_data"
    }
   ],
   "source": [
    "search_logs_df[\"hour\"]=search_logs_df[\"datetime\"].dt.hour\n",
    "search_click_logs_df[\"hour\"]=search_click_logs_df[\"datetime\"].dt.hour\n",
    "\n",
    "# print(search_logs_df[\"hour\"].value_counts())\n",
    "# print(\"---------------------------------\")\n",
    "# print(search_click_logs_df[\"hour\"].value_counts())\n",
    "plt.subplots(figsize =(17, 8))\n",
    "plt.bar(search_logs_df[\"hour\"].value_counts().index,search_logs_df[\"hour\"].value_counts().values,color=\"royalblue\",width=0.5,label=\"search logs\",alpha=0.5)\n",
    "plt.bar(search_click_logs_df[\"hour\"].value_counts().index,search_click_logs_df[\"hour\"].value_counts().values,color=\"grey\",width=0.2,label=\"search click logs\",alpha=0.8,edgecolor=\"black\")\n",
    "plt.legend()\n",
    "plt.show()\n"
   ]
  },
  {
   "cell_type": "markdown",
   "id": "3a45dac8-e7bc-4f5c-a556-09f65b102f3c",
   "metadata": {
    "tags": []
   },
   "source": [
    "### 🚩Top 10 most frequent search queries per weekday\n",
    "\n",
    "Now, instead of calculating the most frequent queries over all the timeframe of the data, we would like to find the top 10 most frequent queries per weekday (note that we don't need the number of searches for each query; we are just interested in the queries themeselves)."
   ]
  },
  {
   "cell_type": "markdown",
   "id": "f553734f-9abc-42a2-805e-871e3b01d9b7",
   "metadata": {},
   "source": [
    "**Write the answer below:**  "
   ]
  },
  {
   "cell_type": "code",
   "execution_count": 18,
   "id": "af77fde1-be61-4ead-ab41-da43a5149ae9",
   "metadata": {},
   "outputs": [
    {
     "name": "stdout",
     "output_type": "stream",
     "text": [
      "Friday\n",
      "['روغن' 'کاغذ a4' 'لپ تاپ ایسوس' 'xiaomi 12 pro' 'دوربین عکاسی' 'شیر'\n",
      " 'لباس عروس' 'کفش' 'دلار امریکا ' 'iphone']\n",
      "------------------------------------\n",
      "Monday\n",
      "['کفش زنانه' 'شیر' 'xbox series s' 'دوربین عکاسی' 'لپ تاپ ایسوس'\n",
      " 'روغن موتور' 'کفش' 'روغن' 'دوچرخه 26' 'iphone']\n",
      "------------------------------------\n",
      "Saturday\n",
      "['کولر ابی' 'xbox series s' 'لپ تاپ ایسوس' 'مبل' 'دوربین عکاسی'\n",
      " 'دوچرخه 26' 'روغن موتور' 'کفش' 'روغن' 'iphone']\n",
      "------------------------------------\n",
      "Sunday\n",
      "['گوشی' 'xbox series s' 'دوربین عکاسی' 'لپ تاپ ایسوس' 'روغن موتور' 'کفش'\n",
      " 'روغن' 'دوچرخه 26' 'روغن خوراکی' 'iphone']\n",
      "------------------------------------\n",
      "Thursday\n",
      "['کاغذ a4' 'xiaomi 12 pro' 'دوربین عکاسی' 'لپ تاپ ایسوس' 'روغن' 'شیر'\n",
      " 'لباس عروس' 'کفش' 'دلار امریکا ' 'iphone']\n",
      "------------------------------------\n",
      "Tuesday\n",
      "['دوربین عکاسی' 'لپ تاپ ایسوس' 'کاغذ a4' 'xiaomi 12 pro' 'شیر' 'روغن'\n",
      " 'لباس عروس' 'کفش' 'دلار امریکا ' 'iphone']\n",
      "------------------------------------\n",
      "Wednesday\n",
      "['دوربین عکاسی' 'کاغذ a4' 'xiaomi 12 pro' 'لپ تاپ ایسوس' 'روغن' 'شیر'\n",
      " 'لباس عروس' 'کفش' 'دلار امریکا ' 'iphone']\n",
      "------------------------------------\n"
     ]
    }
   ],
   "source": [
    "gp=search_logs_df.groupby([\"weekday\"])\n",
    "for i in gp.groups:\n",
    "    print(i)\n",
    "    unique,counts= np.unique(gp.get_group(i)[\"raw_query\"],return_counts=True)\n",
    "    print(unique[np.argsort(counts)[-10:]])\n",
    "    print(\"------------------------------------\")\n"
   ]
  },
  {
   "cell_type": "markdown",
   "id": "3a33b8ac-ecf5-4b6d-9987-24f12dfcd38a",
   "metadata": {
    "tags": []
   },
   "source": [
    "### 🚩Number of searches per user\n",
    "\n",
    "Next, we would like to know how many of the searches are done by our regular visitors or loyal users.\n",
    "\n",
    "Calculate the number of searches per user such that we could know the number of users with at most 3 searches, between 4 and 9 searches, and at least 10 searches."
   ]
  },
  {
   "cell_type": "markdown",
   "id": "d20eef5c-667f-4e6e-9373-8270616cab9e",
   "metadata": {},
   "source": [
    "**Write the answer below:**  "
   ]
  },
  {
   "cell_type": "code",
   "execution_count": 19,
   "id": "310135a3-525d-4d91-948c-a3fc9d0d2465",
   "metadata": {},
   "outputs": [
    {
     "name": "stdout",
     "output_type": "stream",
     "text": [
      "286513\n",
      "22223\n",
      "2347\n"
     ]
    }
   ],
   "source": [
    "gp = search_logs_df.groupby(\"user_id\").size()\n",
    "less_than3=gp[gp<=3]\n",
    "between4and9= gp[(gp>=4) & (gp<=9)]\n",
    "at_least_10 = gp[gp>=10]\n",
    "print(less_than3.shape[0])\n",
    "print(between4and9.shape[0])\n",
    "print(at_least_10.shape[0])"
   ]
  },
  {
   "cell_type": "markdown",
   "id": "44c7bc72-c66a-4db4-b7a4-2a7a9ee0bc29",
   "metadata": {
    "tags": []
   },
   "source": [
    "### 🚩Number of searches with or without a category\n",
    "\n",
    "For some of the searches, a product category is also selected by the user which limits the search results to only the products in the selected category. We would like to find the number of these searches and compare it against searches without category.\n",
    "\n",
    "Calculate the number of searches with and without a selected category by users:"
   ]
  },
  {
   "cell_type": "markdown",
   "id": "62c996fd-2b22-41f8-af39-79428d19de2d",
   "metadata": {},
   "source": [
    "**Write the answer below:**  \n",
    "(Hint: if `category_id` is `NaN` for a search record, it means that search was performed without selecting a category; and consider that Pandas is very NA-friendly and also has methods for detecting `NaN` values.)"
   ]
  },
  {
   "cell_type": "code",
   "execution_count": 20,
   "id": "55323439-31fc-494a-b4d7-78d17b220af0",
   "metadata": {},
   "outputs": [
    {
     "name": "stdout",
     "output_type": "stream",
     "text": [
      "searches without selected category: 410049\n",
      "searches with selected category: 129240\n"
     ]
    }
   ],
   "source": [
    "print(\"searches without selected category:\",search_logs_df[search_logs_df[\"category_id\"].isnull()].shape[0])\n",
    "print(\"searches with selected category:\",search_logs_df[search_logs_df[\"category_id\"].isnull()==False].shape[0])"
   ]
  },
  {
   "cell_type": "markdown",
   "id": "123f587a-31ef-4218-aa44-e060e8b7b84f",
   "metadata": {
    "tags": []
   },
   "source": [
    "### 🚩Most frequent search queries among searches with a category\n",
    "\n",
    "This is the same as the earlier exercise for finding the most frequent search queries, but it only consider searches with a selected category by user.\n",
    "\n",
    "Find the top 10 most frequent search queries among searches with a category, along with their number of searches:"
   ]
  },
  {
   "cell_type": "markdown",
   "id": "7440e672-e96f-4321-b323-b257807e1f7f",
   "metadata": {},
   "source": [
    "**Write the answer below:**  "
   ]
  },
  {
   "cell_type": "code",
   "execution_count": 21,
   "id": "16bf56a4-d017-4a6a-bdbb-7887b7b281fa",
   "metadata": {},
   "outputs": [
    {
     "data": {
      "text/plain": "array(['هارد', 'شیایومی', 'ps5', 'کولر', 'دوچرخه', 'موتور', 'یخچال',\n       'تلویزیون', 'گوشی', 'روغن'], dtype=object)"
     },
     "execution_count": 21,
     "metadata": {},
     "output_type": "execute_result"
    }
   ],
   "source": [
    "unique,counts=np.unique(search_logs_df[search_logs_df[\"category_id\"].isnull()==False][\"raw_query\"],return_counts=True)\n",
    "unique[np.argsort(counts)[-10:]]"
   ]
  },
  {
   "cell_type": "markdown",
   "id": "43c7a24a-84d9-4aa4-9fa5-01e027261f68",
   "metadata": {
    "tags": []
   },
   "source": [
    "### 🚩Distribution of search clicks over different ranks\n",
    "\n",
    "Is it more likely that the users click on the top search results instead of the lower ranked results? To find out, we need to compute the distribution of search-clicks over different ranks (i.e. number of search-clicks per rank of the clicked product in the search result).\n",
    "\n",
    "Plot the distribution of number of search-clicks over different ranks using a bar plot:"
   ]
  },
  {
   "cell_type": "markdown",
   "id": "915c9895-cd19-4caf-9c16-9d167056e5ec",
   "metadata": {},
   "source": [
    "**Write the answer below:**  "
   ]
  },
  {
   "cell_type": "code",
   "execution_count": 22,
   "id": "54e876bc-82a2-4533-a95e-c17ceabb1529",
   "metadata": {},
   "outputs": [
    {
     "data": {
      "text/plain": "<AxesSubplot:title={'center':'number of clicks per rank'}>"
     },
     "execution_count": 22,
     "metadata": {},
     "output_type": "execute_result"
    },
    {
     "data": {
      "text/plain": "<Figure size 432x288 with 1 Axes>",
      "image/png": "[encoded data removed]"
     },
     "metadata": {
      "needs_background": "light"
     },
     "output_type": "display_data"
    }
   ],
   "source": [
    "search_click_logs_df[\"rank\"].value_counts().plot.bar(title=\"number of clicks per rank\")"
   ]
  },
  {
   "cell_type": "markdown",
   "id": "003e752f-9213-4c8c-8d91-726d24ce7c3b",
   "metadata": {
    "tags": []
   },
   "source": [
    "### 🚩Number of searches per number of search results\n",
    "\n",
    "How many of the searches have zero search result? How many of them have only 1 or 2 results? To find out, we can compute the distribution of number of searches per number of search-results.\n",
    "\n",
    "Calculate the full distribution of number of searches per number of search results:"
   ]
  },
  {
   "cell_type": "markdown",
   "id": "5f7c38cc-3f04-4465-ab0c-348edce777c8",
   "metadata": {},
   "source": [
    "**Write the answer below:**  "
   ]
  },
  {
   "cell_type": "code",
   "execution_count": 23,
   "id": "8be7bedf-9dd7-4864-a990-2dd95a2bf8d6",
   "metadata": {},
   "outputs": [
    {
     "data": {
      "text/plain": "<AxesSubplot:title={'center':'number of searches per number of results'}>"
     },
     "execution_count": 23,
     "metadata": {},
     "output_type": "execute_result"
    },
    {
     "data": {
      "text/plain": "<Figure size 432x288 with 1 Axes>",
      "image/png": "[encoded data removed]"
     },
     "metadata": {
      "needs_background": "light"
     },
     "output_type": "display_data"
    }
   ],
   "source": [
    "search_logs_df[\"number of search results\"]=search_logs_df[\"result\"].apply(lambda x:len(x))\n",
    "search_logs_df[\"number of search results\"].value_counts().plot.bar(title=\"number of searches per number of results\")"
   ]
  },
  {
   "cell_type": "markdown",
   "id": "c21cb978-c189-4ba5-95b6-77274f6fefa1",
   "metadata": {
    "tags": []
   },
   "source": [
    "### 🚩Most searched categories\n",
    "\n",
    "Find the categories with the most of number of searches. We would like to know the ID of the categories as well as their **title**."
   ]
  },
  {
   "cell_type": "markdown",
   "id": "19318de6-3a29-4436-9fe9-bb47a9b7683c",
   "metadata": {},
   "source": [
    "**Write the answer below:**  \n",
    "(Hint: we can calculate the ID of most searched categories from \"search logs\" dataframe, but to find their title we should also use the \"categories\" dataframe; hence you probably need to perform a \"join\"/\"merge\" operation to combine the information from two dataframes.)"
   ]
  },
  {
   "cell_type": "code",
   "execution_count": 24,
   "id": "41bc6332-e7ec-4fc7-9dcb-e3c42614ff10",
   "metadata": {},
   "outputs": [
    {
     "data": {
      "text/plain": "          id  number of searches                      title  \\\n612   2580.0               14960                گوشی موبایل   \n717   3110.0                2647                روغن خوراکی   \n1975  8564.0                2170           لپ تاپ و نوت بوک   \n262   1092.0                2110      هدفون، هدست و هندزفری   \n195    820.0                2089                کارت گرافیک   \n...      ...                 ...                        ...   \n2161  9328.0                   1                        شنا   \n1941  8411.0                   1            ابزار ماکت سازی   \n1803  7708.0                   1  سایر لوازم الکتریکی همراه   \n1493  6432.0                   1                شبرنگ خودرو   \n281   1154.0                   1                  رگال سقفی   \n\n      parent_category_id  \n612                175.0  \n717                482.0  \n1975               173.0  \n262                175.0  \n195                240.0  \n...                  ...  \n2161              1996.0  \n1941              2944.0  \n1803                98.0  \n1493               585.0  \n281               3016.0  \n\n[2328 rows x 4 columns]",
      "text/html": "<div>\n<style scoped>\n    .dataframe tbody tr th:only-of-type {\n        vertical-align: middle;\n    }\n\n    .dataframe tbody tr th {\n        vertical-align: top;\n    }\n\n    .dataframe thead th {\n        text-align: right;\n    }\n</style>\n<table border=\"1\" class=\"dataframe\">\n  <thead>\n    <tr style=\"text-align: right;\">\n      <th></th>\n      <th>id</th>\n      <th>number of searches</th>\n      <th>title</th>\n      <th>parent_category_id</th>\n    </tr>\n  </thead>\n  <tbody>\n    <tr>\n      <th>612</th>\n      <td>2580.0</td>\n      <td>14960</td>\n      <td>گوشی موبایل</td>\n      <td>175.0</td>\n    </tr>\n    <tr>\n      <th>717</th>\n      <td>3110.0</td>\n      <td>2647</td>\n      <td>روغن خوراکی</td>\n      <td>482.0</td>\n    </tr>\n    <tr>\n      <th>1975</th>\n      <td>8564.0</td>\n      <td>2170</td>\n      <td>لپ تاپ و نوت بوک</td>\n      <td>173.0</td>\n    </tr>\n    <tr>\n      <th>262</th>\n      <td>1092.0</td>\n      <td>2110</td>\n      <td>هدفون، هدست و هندزفری</td>\n      <td>175.0</td>\n    </tr>\n    <tr>\n      <th>195</th>\n      <td>820.0</td>\n      <td>2089</td>\n      <td>کارت گرافیک</td>\n      <td>240.0</td>\n    </tr>\n    <tr>\n      <th>...</th>\n      <td>...</td>\n      <td>...</td>\n      <td>...</td>\n      <td>...</td>\n    </tr>\n    <tr>\n      <th>2161</th>\n      <td>9328.0</td>\n      <td>1</td>\n      <td>شنا</td>\n      <td>1996.0</td>\n    </tr>\n    <tr>\n      <th>1941</th>\n      <td>8411.0</td>\n      <td>1</td>\n      <td>ابزار ماکت سازی</td>\n      <td>2944.0</td>\n    </tr>\n    <tr>\n      <th>1803</th>\n      <td>7708.0</td>\n      <td>1</td>\n      <td>سایر لوازم الکتریکی همراه</td>\n      <td>98.0</td>\n    </tr>\n    <tr>\n      <th>1493</th>\n      <td>6432.0</td>\n      <td>1</td>\n      <td>شبرنگ خودرو</td>\n      <td>585.0</td>\n    </tr>\n    <tr>\n      <th>281</th>\n      <td>1154.0</td>\n      <td>1</td>\n      <td>رگال سقفی</td>\n      <td>3016.0</td>\n    </tr>\n  </tbody>\n</table>\n<p>2328 rows × 4 columns</p>\n</div>"
     },
     "execution_count": 24,
     "metadata": {},
     "output_type": "execute_result"
    }
   ],
   "source": [
    "\n",
    "gp = search_logs_df.groupby(\"category_id\")\n",
    "df_temp = pd.DataFrame(index=range(len(gp.groups)))\n",
    "df_temp[\"id\"]=gp.groups\n",
    "df_temp[\"number of searches\"]=df_temp.id.apply(lambda x: gp.size().loc[x])\n",
    "df_temp=pd.merge(df_temp,categories_df,on=\"id\")\n",
    "df_temp.sort_values(by=[\"number of searches\"],ascending=False,inplace=True)\n",
    "df_temp"
   ]
  },
  {
   "cell_type": "markdown",
   "id": "1e2c3d99-6129-442f-83e8-a617573fba0a",
   "metadata": {
    "tags": []
   },
   "source": [
    "### 🚩Number of clicks per searches\n",
    "\n",
    "We would like to know how many of the searches have gotten no clicks, or how many of them have gotten more than one clicks. To find out, we should compute the distribution of number of clicks per searches:"
   ]
  },
  {
   "cell_type": "markdown",
   "id": "24285ec6-acd2-44d0-ac0a-f7d1798f038e",
   "metadata": {},
   "source": []
  },
  {
   "cell_type": "code",
   "execution_count": 25,
   "id": "2afb8155-28d5-4778-8749-c97b6da0f7f3",
   "metadata": {},
   "outputs": [
    {
     "data": {
      "text/plain": "<Figure size 648x576 with 1 Axes>",
      "image/png": "[encoded data removed]"
     },
     "metadata": {
      "needs_background": "light"
     },
     "output_type": "display_data"
    }
   ],
   "source": [
    "merged = pd.merge(search_click_logs_df,search_logs_df,right_on=\"id\",left_on=\"search_id\")\n",
    "unique,counts=np.unique(merged.search_id.value_counts().values,return_counts=True)\n",
    "unique=np.insert(unique,0,0)\n",
    "counts=np.insert(counts,0,search_logs_df.shape[0]-sum((counts)))\n",
    "plt.subplots(figsize =(9, 8))\n",
    "plt.xlabel(\"number of clicks\")\n",
    "plt.ylabel(\"frequency\")\n",
    "plt.bar(unique,counts)\n",
    "plt.xticks(range(len(counts)))\n",
    "plt.show()\n",
    "\n"
   ]
  },
  {
   "cell_type": "markdown",
   "id": "b2bf91c4-e1cb-46dd-9390-0a97bf4aeeaa",
   "metadata": {
    "tags": []
   },
   "source": [
    "### 🚩Most clicked products\n",
    "\n",
    "We are interested to know which product are the most popular. For that, we can count the clicks of each product and consider the most clicked products as the most popular ones. So let's find the top 20 most clicked products (we would like to know the ID, title and number of clicks for those products):"
   ]
  },
  {
   "cell_type": "markdown",
   "id": "12378660-3414-4128-9c65-4f539d0cf6ca",
   "metadata": {},
   "source": []
  },
  {
   "cell_type": "code",
   "execution_count": 26,
   "id": "3c412aaf-6952-42cf-b1d6-2dfcfaab8746",
   "metadata": {},
   "outputs": [
    {
     "data": {
      "text/plain": "                                        product_title  product_id  \\\n0             کنسول بازی سونی PlayStation 5 استاندارد     8625118   \n1      گوشی سامسونگ A52s 5G | حافظه 128 رم 8 گیگابایت     1078897   \n2   گوشی شیائومی POCO X3 Pro | حافظه 256 رم 8 گیگا...      253379   \n3     گوشی اپل (استوک) iPhone 11 | حافظه 128 گیگابایت     2566030   \n4   کنسول بازی مایکروسافت Xbox Series S | حافظه 51...     7315523   \n5          گوشی سامسونگ A52 | حافظه 128 رم 8 گیگابایت     2783029   \n6   گوشی شیائومی Redmi Note 11 Pro | حافظه 128 رم ...     5683508   \n7     گوشی سامسونگ A12 Nacho | حافظه 64 رم 4 گیگابایت     9193664   \n8   گوشی سامسونگ S22 Ultra 5G | حافظه 256 رم 12 گی...     6018876   \n9   گوشی اپل (استوک) iPhone 11 Pro | حافظه 256 گیگ...     9385946   \n10          گوشی سامسونگ A13 | حافظه 64 رم 4 گیگابایت     9634256   \n11  گوشی شیائومی Poco F3 5G | حافظه 256 رم 8 گیگابایت     5187589   \n12  گوشی شیائومی 11T Pro 5G | حافظه 256 رم 12 گیگا...     3712777   \n13   گوشی سامسونگ S21 FE 5G | حافظه 256 رم 8 گیگاب...     5373323   \n14  روغن نیمه جامد حاوی امگا3 مناسب پخت و پز لادن ...      541613   \n15  روغن آفتابگردان غنی شده با ویتامین دی810 گرم ا...     6018703   \n16        گوشی سامسونگ A32  | حافظه 128 رم 6 گیگابایت     3233307   \n17                        روغن نیمه جامد غنجه 4کیلویی     8783002   \n18  گوشی شیائومی Redmi Note 11 | حافظه 128 رم 6 گی...     9619627   \n19  گوشی اپل iPhone 13 Pro max (Not Active) | حافظ...     6754504   \n\n    number of clicks  \n0                430  \n1                434  \n2                476  \n3                481  \n4                484  \n5                494  \n6                513  \n7                516  \n8                540  \n9                553  \n10               556  \n11               574  \n12               576  \n13               601  \n14               654  \n15               665  \n16               705  \n17               866  \n18               910  \n19               932  ",
      "text/html": "<div>\n<style scoped>\n    .dataframe tbody tr th:only-of-type {\n        vertical-align: middle;\n    }\n\n    .dataframe tbody tr th {\n        vertical-align: top;\n    }\n\n    .dataframe thead th {\n        text-align: right;\n    }\n</style>\n<table border=\"1\" class=\"dataframe\">\n  <thead>\n    <tr style=\"text-align: right;\">\n      <th></th>\n      <th>product_title</th>\n      <th>product_id</th>\n      <th>number of clicks</th>\n    </tr>\n  </thead>\n  <tbody>\n    <tr>\n      <th>0</th>\n      <td>کنسول بازی سونی PlayStation 5 استاندارد</td>\n      <td>8625118</td>\n      <td>430</td>\n    </tr>\n    <tr>\n      <th>1</th>\n      <td>گوشی سامسونگ A52s 5G | حافظه 128 رم 8 گیگابایت</td>\n      <td>1078897</td>\n      <td>434</td>\n    </tr>\n    <tr>\n      <th>2</th>\n      <td>گوشی شیائومی POCO X3 Pro | حافظه 256 رم 8 گیگا...</td>\n      <td>253379</td>\n      <td>476</td>\n    </tr>\n    <tr>\n      <th>3</th>\n      <td>گوشی اپل (استوک) iPhone 11 | حافظه 128 گیگابایت</td>\n      <td>2566030</td>\n      <td>481</td>\n    </tr>\n    <tr>\n      <th>4</th>\n      <td>کنسول بازی مایکروسافت Xbox Series S | حافظه 51...</td>\n      <td>7315523</td>\n      <td>484</td>\n    </tr>\n    <tr>\n      <th>5</th>\n      <td>گوشی سامسونگ A52 | حافظه 128 رم 8 گیگابایت</td>\n      <td>2783029</td>\n      <td>494</td>\n    </tr>\n    <tr>\n      <th>6</th>\n      <td>گوشی شیائومی Redmi Note 11 Pro | حافظه 128 رم ...</td>\n      <td>5683508</td>\n      <td>513</td>\n    </tr>\n    <tr>\n      <th>7</th>\n      <td>گوشی سامسونگ A12 Nacho | حافظه 64 رم 4 گیگابایت</td>\n      <td>9193664</td>\n      <td>516</td>\n    </tr>\n    <tr>\n      <th>8</th>\n      <td>گوشی سامسونگ S22 Ultra 5G | حافظه 256 رم 12 گی...</td>\n      <td>6018876</td>\n      <td>540</td>\n    </tr>\n    <tr>\n      <th>9</th>\n      <td>گوشی اپل (استوک) iPhone 11 Pro | حافظه 256 گیگ...</td>\n      <td>9385946</td>\n      <td>553</td>\n    </tr>\n    <tr>\n      <th>10</th>\n      <td>گوشی سامسونگ A13 | حافظه 64 رم 4 گیگابایت</td>\n      <td>9634256</td>\n      <td>556</td>\n    </tr>\n    <tr>\n      <th>11</th>\n      <td>گوشی شیائومی Poco F3 5G | حافظه 256 رم 8 گیگابایت</td>\n      <td>5187589</td>\n      <td>574</td>\n    </tr>\n    <tr>\n      <th>12</th>\n      <td>گوشی شیائومی 11T Pro 5G | حافظه 256 رم 12 گیگا...</td>\n      <td>3712777</td>\n      <td>576</td>\n    </tr>\n    <tr>\n      <th>13</th>\n      <td>گوشی سامسونگ S21 FE 5G | حافظه 256 رم 8 گیگاب...</td>\n      <td>5373323</td>\n      <td>601</td>\n    </tr>\n    <tr>\n      <th>14</th>\n      <td>روغن نیمه جامد حاوی امگا3 مناسب پخت و پز لادن ...</td>\n      <td>541613</td>\n      <td>654</td>\n    </tr>\n    <tr>\n      <th>15</th>\n      <td>روغن آفتابگردان غنی شده با ویتامین دی810 گرم ا...</td>\n      <td>6018703</td>\n      <td>665</td>\n    </tr>\n    <tr>\n      <th>16</th>\n      <td>گوشی سامسونگ A32  | حافظه 128 رم 6 گیگابایت</td>\n      <td>3233307</td>\n      <td>705</td>\n    </tr>\n    <tr>\n      <th>17</th>\n      <td>روغن نیمه جامد غنجه 4کیلویی</td>\n      <td>8783002</td>\n      <td>866</td>\n    </tr>\n    <tr>\n      <th>18</th>\n      <td>گوشی شیائومی Redmi Note 11 | حافظه 128 رم 6 گی...</td>\n      <td>9619627</td>\n      <td>910</td>\n    </tr>\n    <tr>\n      <th>19</th>\n      <td>گوشی اپل iPhone 13 Pro max (Not Active) | حافظ...</td>\n      <td>6754504</td>\n      <td>932</td>\n    </tr>\n  </tbody>\n</table>\n</div>"
     },
     "execution_count": 26,
     "metadata": {},
     "output_type": "execute_result"
    }
   ],
   "source": [
    "merged[\"selected_product_id\"]=merged.apply(lambda x: x.result[x[\"rank\"]],axis=1)\n",
    "merged_products = pd.merge(merged,products_df,left_on=\"selected_product_id\",right_on=\"id\")\n",
    "unique,counts=np.unique(merged[\"selected_product_id\"],return_counts=True)\n",
    "dfTemp = pd.DataFrame(index=range(20))\n",
    "dfTemp[\"product_title\"]=merged_products[\"title\"].value_counts(ascending=True)[-20:].index\n",
    "dfTemp[\"product_id\"] = unique[np.argsort(counts)[-20:]]\n",
    "dfTemp[\"number of clicks\"]=np.sort(counts)[-20:]\n",
    "dfTemp"
   ]
  },
  {
   "cell_type": "markdown",
   "id": "2fd84446-488e-452a-b557-94754b50709c",
   "metadata": {
    "tags": []
   },
   "source": [
    "### 🚩Most clicked categories\n",
    "\n",
    "And finally, we would like to know which categories of the products have the most clicks. In other words, we would like to find out products of which categories have gotten the most clicks in total. Let's find the top 10 most clicked categories, including the ID and title of the categories as well as the total number of clicks for each of those categories:"
   ]
  },
  {
   "cell_type": "markdown",
   "id": "3a52f2dc-f667-49d5-aaff-d63d21b44476",
   "metadata": {},
   "source": []
  },
  {
   "cell_type": "code",
   "execution_count": 27,
   "outputs": [
    {
     "name": "stderr",
     "output_type": "stream",
     "text": [
      "C:\\Users\\ASUS\\AppData\\Local\\Temp\\ipykernel_17644\\2825016111.py:1: FutureWarning: Passing 'suffixes' which cause duplicate columns {'id_x'} in the result is deprecated and will raise a MergeError in a future version.\n",
      "  merged_products_categories= pd.merge(merged_products,categories_df,left_on=\"category_id_y\",right_on=\"id\")\n"
     ]
    },
    {
     "data": {
      "text/plain": "            category_title    id  number of clicks\n0  ماشین اصلاح و ریش‌ تراش  3064              2098\n1             کتاب و مجلات  8197              2422\n2     ساعت و مچ بند هوشمند  3424              2633\n3              کارت گرافیک   820              2852\n4          کیف و کاور گوشی  9663              2971\n5                 تلویزیون  2999              2978\n6         لپ تاپ و نوت بوک  8564              4560\n7    هدفون، هدست و هندزفری  1092              4986\n8              روغن خوراکی  3110              7280\n9              گوشی موبایل  2580             42518",
      "text/html": "<div>\n<style scoped>\n    .dataframe tbody tr th:only-of-type {\n        vertical-align: middle;\n    }\n\n    .dataframe tbody tr th {\n        vertical-align: top;\n    }\n\n    .dataframe thead th {\n        text-align: right;\n    }\n</style>\n<table border=\"1\" class=\"dataframe\">\n  <thead>\n    <tr style=\"text-align: right;\">\n      <th></th>\n      <th>category_title</th>\n      <th>id</th>\n      <th>number of clicks</th>\n    </tr>\n  </thead>\n  <tbody>\n    <tr>\n      <th>0</th>\n      <td>ماشین اصلاح و ریش‌ تراش</td>\n      <td>3064</td>\n      <td>2098</td>\n    </tr>\n    <tr>\n      <th>1</th>\n      <td>کتاب و مجلات</td>\n      <td>8197</td>\n      <td>2422</td>\n    </tr>\n    <tr>\n      <th>2</th>\n      <td>ساعت و مچ بند هوشمند</td>\n      <td>3424</td>\n      <td>2633</td>\n    </tr>\n    <tr>\n      <th>3</th>\n      <td>کارت گرافیک</td>\n      <td>820</td>\n      <td>2852</td>\n    </tr>\n    <tr>\n      <th>4</th>\n      <td>کیف و کاور گوشی</td>\n      <td>9663</td>\n      <td>2971</td>\n    </tr>\n    <tr>\n      <th>5</th>\n      <td>تلویزیون</td>\n      <td>2999</td>\n      <td>2978</td>\n    </tr>\n    <tr>\n      <th>6</th>\n      <td>لپ تاپ و نوت بوک</td>\n      <td>8564</td>\n      <td>4560</td>\n    </tr>\n    <tr>\n      <th>7</th>\n      <td>هدفون، هدست و هندزفری</td>\n      <td>1092</td>\n      <td>4986</td>\n    </tr>\n    <tr>\n      <th>8</th>\n      <td>روغن خوراکی</td>\n      <td>3110</td>\n      <td>7280</td>\n    </tr>\n    <tr>\n      <th>9</th>\n      <td>گوشی موبایل</td>\n      <td>2580</td>\n      <td>42518</td>\n    </tr>\n  </tbody>\n</table>\n</div>"
     },
     "execution_count": 27,
     "metadata": {},
     "output_type": "execute_result"
    }
   ],
   "source": [
    "merged_products_categories= pd.merge(merged_products,categories_df,left_on=\"category_id_y\",right_on=\"id\")\n",
    "unique,counts=np.unique(merged_products_categories[\"category_id_y\"],return_counts=True)\n",
    "dfTemp=pd.DataFrame(index=range(10))\n",
    "dfTemp[\"category_title\"]=merged_products_categories[\"title_y\"].value_counts(ascending=True)[-10:].index\n",
    "dfTemp[\"id\"]=unique[np.argsort(counts)[-10:]]\n",
    "dfTemp[\"number of clicks\"]=np.sort(counts)[-10:]\n",
    "dfTemp"
   ],
   "metadata": {
    "collapsed": false,
    "pycharm": {
     "name": "#%%\n"
    }
   }
  },
  {
   "cell_type": "code",
   "execution_count": 27,
   "outputs": [],
   "source": [],
   "metadata": {
    "collapsed": false,
    "pycharm": {
     "name": "#%%\n"
    }
   }
  }
 ],
 "metadata": {
  "kernelspec": {
   "name": "python3",
   "language": "python",
   "display_name": "Python 3 (ipykernel)"
  },
  "language_info": {
   "codemirror_mode": {
    "name": "ipython",
    "version": 3
   },
   "file_extension": ".py",
   "mimetype": "text/x-python",
   "name": "python",
   "nbconvert_exporter": "python",
   "pygments_lexer": "ipython3",
   "version": "3.10.0"
  }
 },
 "nbformat": 4,
 "nbformat_minor": 5
}